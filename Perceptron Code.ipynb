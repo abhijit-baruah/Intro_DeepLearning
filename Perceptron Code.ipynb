{
 "cells": [
  {
   "cell_type": "code",
   "execution_count": 10,
   "metadata": {},
   "outputs": [],
   "source": [
    "import pandas as pd # package required to read a datafile \n",
    "import numpy as np # package 'Numerical Python' which is a core library for scientific computing\n",
    "\n",
    "dataset=pd.read_csv(\"Mock_data.csv\",sep=\",\",header=None)\n",
    "dataset.head()\n",
    "X=dataset.values[:,0:2]\n",
    "y=dataset.values[:,2]"
   ]
  },
  {
   "cell_type": "code",
   "execution_count": 11,
   "metadata": {
    "scrolled": false
   },
   "outputs": [
    {
     "data": {
      "image/png": "[encoded data removed]",
      "text/plain": [
       "<Figure size 432x288 with 1 Axes>"
      ]
     },
     "metadata": {
      "needs_background": "light"
     },
     "output_type": "display_data"
    }
   ],
   "source": [
    "import matplotlib.pyplot as plt\n",
    "\n",
    "I=y>0.5\n",
    "J=y<0.5\n",
    "plt.scatter(X[I,0], X[I,1], c='red', s=15, alpha=0.5)\n",
    "plt.scatter(X[J,0], X[J,1], c='blue', s=15, alpha=0.5)\n",
    "plt.title(\"Scatter plot of Mock_dataset.csv\")\n",
    "plt.xlabel(\"X [0]\")\n",
    "plt.ylabel(\"X [1]\")\n",
    "plt.show()"
   ]
  },
  {
   "cell_type": "code",
   "execution_count": 3,
   "metadata": {},
   "outputs": [],
   "source": [
    "# Estimate weights and bias parameters using Perceptron algorithm and make final prediction\n",
    "def train_weights(X,y, l_rate, n_epoch):\n",
    "    weights=np.zeros(3) # a three dimensional array of zeroes\n",
    "    for epoch in range(n_epoch):\n",
    "        sum_error = 0.0\n",
    "        for i in range(len(X[:,0])):\n",
    "            if np.dot(X[i,:],weights[1:3])+weights[0]>=0: # checking the activation function\n",
    "                prediction=1.0\n",
    "            else:\n",
    "                prediction=0.0\n",
    "            error = y[i]- prediction\n",
    "            sum_error += error**2 # sum of squared errors to check 'goodness' of the algorithm\n",
    "            weights[0] = weights[0] + l_rate * error # updating the bias parameter\n",
    "            for j in range(len(X[0,:])):\n",
    "                weights[j+1] = weights[j+1] + l_rate * error * X[i,j] # updating the weights parameter\n",
    "        print('>epoch=%d, lrate=%.3f, error=%.3f' % (epoch, l_rate, sum_error))\n",
    "    return weights\n"
   ]
  },
  {
   "cell_type": "code",
   "execution_count": 4,
   "metadata": {
    "scrolled": true
   },
   "outputs": [
    {
     "name": "stdout",
     "output_type": "stream",
     "text": [
      ">epoch=0, lrate=0.100, error=2.000\n",
      ">epoch=1, lrate=0.100, error=1.000\n",
      ">epoch=2, lrate=0.100, error=0.000\n",
      ">epoch=3, lrate=0.100, error=0.000\n",
      ">epoch=4, lrate=0.100, error=0.000\n",
      ">epoch=5, lrate=0.100, error=0.000\n",
      ">epoch=6, lrate=0.100, error=0.000\n",
      ">epoch=7, lrate=0.100, error=0.000\n",
      ">epoch=8, lrate=0.100, error=0.000\n",
      ">epoch=9, lrate=0.100, error=0.000\n",
      "[-0.1         0.2065364  -0.23418118]\n"
     ]
    }
   ],
   "source": [
    "# Running the Perceptron code on mock dataset\n",
    "\n",
    "l_rate = 0.1 # learning rate\n",
    "n_epoch = 10 #  number of iterations\n",
    "weights = train_weights(X,y, l_rate, n_epoch)\n",
    "print(weights) # will give respectively b,w_1,w_2,..."
   ]
  },
  {
   "cell_type": "code",
   "execution_count": 5,
   "metadata": {},
   "outputs": [],
   "source": [
    "def plot_data(X,y,weights):\n",
    "    # fig config\n",
    "    plt.figure(figsize=(10,6))\n",
    "    plt.grid(True)\n",
    "\n",
    "    #plot input samples(2D data points) and i have two classes. \n",
    "    #one is +1 and second one is -1, so it red color for +1 and blue color for -1\n",
    "    for input,target in zip(X,y):\n",
    "        plt.plot(input[0],input[1],'ro' if (target == 1.0) else 'bo')\n",
    "\n",
    "    # Here i am calculating slope and intercept with given three weights\n",
    "    for i in np.linspace(np.amin(X[:,:1]),np.amax(X[:,:1])):\n",
    "        slope = -(weights[0]/weights[2])/(weights[0]/weights[1])  \n",
    "        intercept = -weights[0]/weights[2]\n",
    "\n",
    "        #y =mx+c, m is slope and c is intercept\n",
    "        y = (slope*i) + intercept\n",
    "        plt.plot(i, y,'ko')"
   ]
  },
  {
   "cell_type": "code",
   "execution_count": 6,
   "metadata": {
    "scrolled": true
   },
   "outputs": [
    {
     "data": {
      "image/png": "[encoded data removed]",
      "text/plain": [
       "<Figure size 720x432 with 1 Axes>"
      ]
     },
     "metadata": {
      "needs_background": "light"
     },
     "output_type": "display_data"
    }
   ],
   "source": [
    "plot_data(X,y,weights)"
   ]
  },
  {
   "cell_type": "code",
   "execution_count": 22,
   "metadata": {},
   "outputs": [
    {
     "data": {
      "image/png": "[encoded data removed]",
      "text/plain": [
       "<Figure size 432x288 with 1 Axes>"
      ]
     },
     "metadata": {
      "needs_background": "light"
     },
     "output_type": "display_data"
    },
    {
     "name": "stdout",
     "output_type": "stream",
     "text": [
      ">epoch=0, lrate=0.100, error=4.000\n",
      ">epoch=1, lrate=0.100, error=4.000\n",
      ">epoch=2, lrate=0.100, error=4.000\n",
      ">epoch=3, lrate=0.100, error=4.000\n",
      ">epoch=4, lrate=0.100, error=4.000\n",
      ">epoch=5, lrate=0.100, error=4.000\n",
      ">epoch=6, lrate=0.100, error=4.000\n",
      ">epoch=7, lrate=0.100, error=4.000\n",
      ">epoch=8, lrate=0.100, error=4.000\n",
      ">epoch=9, lrate=0.100, error=4.000\n",
      "[0. 0. 0.]\n"
     ]
    }
   ],
   "source": [
    "dataset=pd.read_csv(\"XOR.csv\",sep=\",\",header=None)\n",
    "dataset.head()\n",
    "X=dataset.values[:,0:2]\n",
    "y=dataset.values[:,2]\n",
    "\n",
    "import matplotlib.pyplot as plt\n",
    "\n",
    "I=y>0.5\n",
    "J=y<0.5\n",
    "plt.scatter(X[I,0], X[I,1], c='red', s=15, alpha=0.5)\n",
    "plt.scatter(X[J,0], X[J,1], c='blue', s=15, alpha=0.5)\n",
    "plt.title(\"Scatter plot XOR.csv\")\n",
    "plt.xlabel(\"X [0]\")\n",
    "plt.ylabel(\"X [1]\")\n",
    "plt.show()\n",
    "\n",
    "l_rate = 0.1\n",
    "n_epoch = 10\n",
    "weights = train_weights(X,y, l_rate, n_epoch)\n",
    "print(weights)"
   ]
  },
  {
   "cell_type": "code",
   "execution_count": 13,
   "metadata": {},
   "outputs": [
    {
     "data": {
      "text/plain": [
       "array([-0.23418118, -0.1       ])"
      ]
     },
     "execution_count": 13,
     "metadata": {},
     "output_type": "execute_result"
    }
   ],
   "source": [
    "# Extra cell to check internal computation\n",
    "weights[1:3]"
   ]
  },
  {
   "cell_type": "code",
   "execution_count": 20,
   "metadata": {
    "scrolled": false
   },
   "outputs": [
    {
     "data": {
      "text/plain": [
       "array([0.24206865, 0.41417784, 0.58628702, 0.75839621, 0.93050539,\n",
       "       1.10261457, 1.27472376, 1.44683294, 1.61894212, 1.79105131,\n",
       "       1.96316049, 2.13526967, 2.30737886, 2.47948804, 2.65159723,\n",
       "       2.82370641, 2.99581559, 3.16792478, 3.34003396, 3.51214314,\n",
       "       3.68425233, 3.85636151, 4.02847069, 4.20057988, 4.37268906,\n",
       "       4.54479824, 4.71690743, 4.88901661, 5.0611258 , 5.23323498,\n",
       "       5.40534416, 5.57745335, 5.74956253, 5.92167171, 6.0937809 ,\n",
       "       6.26589008, 6.43799926, 6.61010845, 6.78221763, 6.95432682,\n",
       "       7.126436  , 7.29854518, 7.47065437, 7.64276355, 7.81487273,\n",
       "       7.98698192, 8.1590911 , 8.33120028, 8.50330947, 8.67541865])"
      ]
     },
     "execution_count": 20,
     "metadata": {},
     "output_type": "execute_result"
    }
   ],
   "source": [
    "np.linspace(np.amin(X[:,:]),np.amax(X[:,:]))"
   ]
  },
  {
   "cell_type": "code",
   "execution_count": 21,
   "metadata": {},
   "outputs": [
    {
     "data": {
      "text/plain": [
       "array([False, False, False, False, False,  True,  True,  True,  True,\n",
       "        True])"
      ]
     },
     "execution_count": 21,
     "metadata": {},
     "output_type": "execute_result"
    }
   ],
   "source": [
    "y>0.5"
   ]
  },
  {
   "cell_type": "code",
   "execution_count": null,
   "metadata": {},
   "outputs": [],
   "source": []
  }
 ],
 "metadata": {
  "kernelspec": {
   "display_name": "Python 3",
   "language": "python",
   "name": "python3"
  },
  "language_info": {
   "codemirror_mode": {
    "name": "ipython",
    "version": 3
   },
   "file_extension": ".py",
   "mimetype": "text/x-python",
   "name": "python",
   "nbconvert_exporter": "python",
   "pygments_lexer": "ipython3",
   "version": "3.7.1"
  }
 },
 "nbformat": 4,
 "nbformat_minor": 2
}
